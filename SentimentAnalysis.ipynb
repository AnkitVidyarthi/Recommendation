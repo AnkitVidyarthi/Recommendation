{
  "cells": [
    {
      "cell_type": "markdown",
      "id": "1634f602",
      "metadata": {
        "id": "1634f602"
      },
      "source": [
        "#MAJOR PROJECT PART-2 (3)\n",
        "DATA ANALYTICS TOWARDS MONITORING THE IMPACT OF MOBILE PHONE ON USER HEALTH AND USER MOBILE RECOMMENDATION USING SENTIMENT ANALYSIS"
      ]
    },
    {
      "cell_type": "markdown",
      "id": "a91d6896",
      "metadata": {
        "id": "a91d6896"
      },
      "source": [
        "##Enrollment Number: 19103048\n",
        "##Name of Student: RITIK RUSTAGI\n",
        "##Name of Supervisor: Dr. Ankit Vidyarthi"
      ]
    },
    {
      "cell_type": "markdown",
      "id": "a394df9b",
      "metadata": {
        "id": "a394df9b"
      },
      "source": [
        "#JAYPEE INSTITUTE OF INFORMATION TECHNOLOGY, NOIDA"
      ]
    },
    {
      "cell_type": "code",
      "execution_count": null,
      "id": "3d3f6641",
      "metadata": {
        "id": "3d3f6641",
        "outputId": "514a9dee-20d1-417e-f818-43b91e5f80e9"
      },
      "outputs": [
        {
          "name": "stdout",
          "output_type": "stream",
          "text": [
            "Python 2.7.18\n"
          ]
        }
      ],
      "source": [
        "!python --version"
      ]
    },
    {
      "cell_type": "code",
      "execution_count": null,
      "id": "8add9cb1",
      "metadata": {
        "id": "8add9cb1"
      },
      "outputs": [],
      "source": [
        "import pandas as pd\n",
        "import numpy as np\n",
        "import string\n",
        "import nltk\n",
        "import re\n",
        "import warnings\n",
        "warnings.filterwarnings('ignore')"
      ]
    },
    {
      "cell_type": "code",
      "execution_count": null,
      "id": "55a11e5b",
      "metadata": {
        "id": "55a11e5b"
      },
      "outputs": [],
      "source": [
        "#nltk.download()"
      ]
    },
    {
      "cell_type": "code",
      "execution_count": null,
      "id": "6a2125d8",
      "metadata": {
        "id": "6a2125d8",
        "outputId": "5018d58b-7be4-493a-db95-ca012199fbc5"
      },
      "outputs": [
        {
          "data": {
            "text/plain": [
              "'/Users/ritikrustagi/Documents/Major_Project_Part-2/data'"
            ]
          },
          "execution_count": 177,
          "metadata": {},
          "output_type": "execute_result"
        }
      ],
      "source": [
        "import os\n",
        "os.chdir(\"/Users/ritikrustagi/Documents/Major_Project_Part-2/data\")\n",
        "os.getcwd()"
      ]
    },
    {
      "cell_type": "code",
      "execution_count": null,
      "id": "dc9cbba8",
      "metadata": {
        "id": "dc9cbba8"
      },
      "outputs": [],
      "source": [
        "def load_data():\n",
        "    data= pd.read_csv('Samsung.csv')\n",
        "    return data"
      ]
    },
    {
      "cell_type": "code",
      "execution_count": null,
      "id": "59c2a909",
      "metadata": {
        "id": "59c2a909"
      },
      "outputs": [],
      "source": [
        "tweet_df= load_data()"
      ]
    },
    {
      "cell_type": "code",
      "execution_count": null,
      "id": "7b2916b4",
      "metadata": {
        "scrolled": true,
        "id": "7b2916b4",
        "outputId": "4c416bad-7b94-44b6-e67d-2f0ca47bb667"
      },
      "outputs": [
        {
          "data": {
            "text/html": [
              "<div>\n",
              "<style scoped>\n",
              "    .dataframe tbody tr th:only-of-type {\n",
              "        vertical-align: middle;\n",
              "    }\n",
              "\n",
              "    .dataframe tbody tr th {\n",
              "        vertical-align: top;\n",
              "    }\n",
              "\n",
              "    .dataframe thead th {\n",
              "        text-align: right;\n",
              "    }\n",
              "</style>\n",
              "<table border=\"1\" class=\"dataframe\">\n",
              "  <thead>\n",
              "    <tr style=\"text-align: right;\">\n",
              "      <th></th>\n",
              "      <th>timestamp</th>\n",
              "      <th>Tweet</th>\n",
              "      <th>username</th>\n",
              "      <th>all_hashtags</th>\n",
              "      <th>followers_count</th>\n",
              "    </tr>\n",
              "  </thead>\n",
              "  <tbody>\n",
              "    <tr>\n",
              "      <th>0</th>\n",
              "      <td>Relationship Date (UTC)</td>\n",
              "      <td>Tweet</td>\n",
              "      <td>Domains in Tweet</td>\n",
              "      <td>Hashtags in Tweet</td>\n",
              "      <td>NaN</td>\n",
              "    </tr>\n",
              "    <tr>\n",
              "      <th>1</th>\n",
              "      <td>10/22/21 7:12</td>\n",
              "      <td>The 10 Biggest Companies by Market Cap in 2001...</td>\n",
              "      <td>twitter.com</td>\n",
              "      <td>NaN</td>\n",
              "      <td>NaN</td>\n",
              "    </tr>\n",
              "    <tr>\n",
              "      <th>2</th>\n",
              "      <td>10/22/21 7:12</td>\n",
              "      <td>RT @Khairykj: In less than two months, we have...</td>\n",
              "      <td>NaN</td>\n",
              "      <td>NaN</td>\n",
              "      <td>NaN</td>\n",
              "    </tr>\n",
              "    <tr>\n",
              "      <th>3</th>\n",
              "      <td>10/22/21 7:12</td>\n",
              "      <td>RT @peach_013: I just feel like I can't wait a...</td>\n",
              "      <td>NaN</td>\n",
              "      <td>NaN</td>\n",
              "      <td>NaN</td>\n",
              "    </tr>\n",
              "    <tr>\n",
              "      <th>4</th>\n",
              "      <td>10/22/21 7:12</td>\n",
              "      <td>RT @peach_013: I just feel like I can't wait a...</td>\n",
              "      <td>NaN</td>\n",
              "      <td>NaN</td>\n",
              "      <td>NaN</td>\n",
              "    </tr>\n",
              "  </tbody>\n",
              "</table>\n",
              "</div>"
            ],
            "text/plain": [
              "                 timestamp                                              Tweet   \n",
              "0  Relationship Date (UTC)                                              Tweet  \\\n",
              "1            10/22/21 7:12  The 10 Biggest Companies by Market Cap in 2001...   \n",
              "2            10/22/21 7:12  RT @Khairykj: In less than two months, we have...   \n",
              "3            10/22/21 7:12  RT @peach_013: I just feel like I can't wait a...   \n",
              "4            10/22/21 7:12  RT @peach_013: I just feel like I can't wait a...   \n",
              "\n",
              "           username       all_hashtags  followers_count  \n",
              "0  Domains in Tweet  Hashtags in Tweet              NaN  \n",
              "1       twitter.com                NaN              NaN  \n",
              "2               NaN                NaN              NaN  \n",
              "3               NaN                NaN              NaN  \n",
              "4               NaN                NaN              NaN  "
            ]
          },
          "execution_count": 180,
          "metadata": {},
          "output_type": "execute_result"
        }
      ],
      "source": [
        "tweet_df.head()"
      ]
    },
    {
      "cell_type": "code",
      "execution_count": null,
      "id": "e67978a5",
      "metadata": {
        "id": "e67978a5",
        "outputId": "913a5249-265c-4529-dd0d-d9d2d39513b3"
      },
      "outputs": [
        {
          "data": {
            "text/html": [
              "<div>\n",
              "<style scoped>\n",
              "    .dataframe tbody tr th:only-of-type {\n",
              "        vertical-align: middle;\n",
              "    }\n",
              "\n",
              "    .dataframe tbody tr th {\n",
              "        vertical-align: top;\n",
              "    }\n",
              "\n",
              "    .dataframe thead th {\n",
              "        text-align: right;\n",
              "    }\n",
              "</style>\n",
              "<table border=\"1\" class=\"dataframe\">\n",
              "  <thead>\n",
              "    <tr style=\"text-align: right;\">\n",
              "      <th></th>\n",
              "      <th>Tweet</th>\n",
              "    </tr>\n",
              "  </thead>\n",
              "  <tbody>\n",
              "    <tr>\n",
              "      <th>0</th>\n",
              "      <td>Tweet</td>\n",
              "    </tr>\n",
              "    <tr>\n",
              "      <th>1</th>\n",
              "      <td>The 10 Biggest Companies by Market Cap in 2001...</td>\n",
              "    </tr>\n",
              "    <tr>\n",
              "      <th>2</th>\n",
              "      <td>RT @Khairykj: In less than two months, we have...</td>\n",
              "    </tr>\n",
              "    <tr>\n",
              "      <th>3</th>\n",
              "      <td>RT @peach_013: I just feel like I can't wait a...</td>\n",
              "    </tr>\n",
              "    <tr>\n",
              "      <th>4</th>\n",
              "      <td>RT @peach_013: I just feel like I can't wait a...</td>\n",
              "    </tr>\n",
              "  </tbody>\n",
              "</table>\n",
              "</div>"
            ],
            "text/plain": [
              "                                               Tweet\n",
              "0                                              Tweet\n",
              "1  The 10 Biggest Companies by Market Cap in 2001...\n",
              "2  RT @Khairykj: In less than two months, we have...\n",
              "3  RT @peach_013: I just feel like I can't wait a...\n",
              "4  RT @peach_013: I just feel like I can't wait a..."
            ]
          },
          "execution_count": 181,
          "metadata": {},
          "output_type": "execute_result"
        }
      ],
      "source": [
        "#remove extra columns\n",
        "df= pd.DataFrame(tweet_df.iloc[:,1])\n",
        "df.head()"
      ]
    },
    {
      "cell_type": "code",
      "execution_count": null,
      "id": "0b7f72f2",
      "metadata": {
        "id": "0b7f72f2",
        "outputId": "070d355f-91ae-4ba5-e4b5-a11412c6c3c8"
      },
      "outputs": [
        {
          "data": {
            "text/html": [
              "<div>\n",
              "<style scoped>\n",
              "    .dataframe tbody tr th:only-of-type {\n",
              "        vertical-align: middle;\n",
              "    }\n",
              "\n",
              "    .dataframe tbody tr th {\n",
              "        vertical-align: top;\n",
              "    }\n",
              "\n",
              "    .dataframe thead th {\n",
              "        text-align: right;\n",
              "    }\n",
              "</style>\n",
              "<table border=\"1\" class=\"dataframe\">\n",
              "  <thead>\n",
              "    <tr style=\"text-align: right;\">\n",
              "      <th></th>\n",
              "      <th>Tweet</th>\n",
              "    </tr>\n",
              "  </thead>\n",
              "  <tbody>\n",
              "    <tr>\n",
              "      <th>0</th>\n",
              "      <td>Tweet</td>\n",
              "    </tr>\n",
              "    <tr>\n",
              "      <th>1</th>\n",
              "      <td>The 10 Biggest Companies by Market Cap in 2001...</td>\n",
              "    </tr>\n",
              "    <tr>\n",
              "      <th>2</th>\n",
              "      <td>RT : In less than two months, we have been abl...</td>\n",
              "    </tr>\n",
              "    <tr>\n",
              "      <th>3</th>\n",
              "      <td>RT : I just feel like I can't wait any longer....</td>\n",
              "    </tr>\n",
              "    <tr>\n",
              "      <th>4</th>\n",
              "      <td>RT : I just feel like I can't wait any longer....</td>\n",
              "    </tr>\n",
              "  </tbody>\n",
              "</table>\n",
              "</div>"
            ],
            "text/plain": [
              "                                               Tweet\n",
              "0                                              Tweet\n",
              "1  The 10 Biggest Companies by Market Cap in 2001...\n",
              "2  RT : In less than two months, we have been abl...\n",
              "3  RT : I just feel like I can't wait any longer....\n",
              "4  RT : I just feel like I can't wait any longer...."
            ]
          },
          "execution_count": 182,
          "metadata": {},
          "output_type": "execute_result"
        }
      ],
      "source": [
        "#remove username\n",
        "def remove_pattern(input_txt, pattern):\n",
        "    r = re.findall(pattern, input_txt)\n",
        "    for i in r:\n",
        "        input_txt = re.sub(i, '', input_txt)\n",
        "    return input_txt\n",
        "df['Tweet'] = np.vectorize(remove_pattern)(df['Tweet'], \"@[\\w]*\")\n",
        "df.head()"
      ]
    },
    {
      "cell_type": "code",
      "execution_count": null,
      "id": "3f6ec2cd",
      "metadata": {
        "id": "3f6ec2cd"
      },
      "outputs": [],
      "source": [
        " #import stopword\n",
        "from nltk.corpus import stopwords\n",
        "stopwords_english = stopwords.words('english')\n",
        "\n",
        "#Stemming and Lemmatization\n",
        "#from nltk.stem.porter import PorterStemmer\n",
        "from nltk.stem.wordnet import WordNetLemmatizer\n",
        "#porter= PorterStemmer()\n",
        "wordnet= WordNetLemmatizer()\n",
        "\n",
        "#tokenize\n",
        "from nltk.tokenize import TweetTokenizer\n",
        "\n",
        "# Happy Emoticons\n",
        "emoticons_happy = set([\n",
        "    ':-)', ':)', ';)', ':o)', ':]', ':3', ':c)', ':>', '=]', '8)', '=)', ':}',\n",
        "    ':^)', ':-D', ':D', '8-D', '8D', 'x-D', 'xD', 'X-D', 'XD', '=-D', '=D',\n",
        "    '=-3', '=3', ':-))', \":'-)\", \":')\", ':*', ':^*', '>:P', ':-P', ':P', 'X-P',\n",
        "    'x-p', 'xp', 'XP', ':-p', ':p', '=p', ':-b', ':b', '>:)', '>;)', '>:-)',\n",
        "    '<3'\n",
        "    ])\n",
        "\n",
        "# Sad Emoticons\n",
        "emoticons_sad = set([\n",
        "    ':L', ':-/', '>:/', ':S', '>:[', ':@', ':-(', ':[', ':-||', '=L', ':<',\n",
        "    ':-[', ':-<', '=\\\\', '=/', '>:(', ':(', '>.<', \":'-(\", \":'(\", ':\\\\', ':-c',\n",
        "    ':c', ':{', '>:\\\\', ';('\n",
        "    ])\n",
        "\n",
        "# all emoticons (happy + sad)\n",
        "emoticons = emoticons_happy.union(emoticons_sad)\n",
        "\n",
        "def clean_tweets(tweet):\n",
        "\n",
        "    # remove old style retweet text \"RT\"\n",
        "    tweet = re.sub(r'^RT[\\s]+', '', tweet)\n",
        "\n",
        "    # remove hyperlinks\n",
        "    tweet = re.sub(r'https?:\\/\\/.*[\\r\\n]*', '', tweet)\n",
        "\n",
        "    # remove hashtags\n",
        "    # only removing the hash # sign from the word\n",
        "    tweet = re.sub(r'#', '', tweet)\n",
        "\n",
        "    #remove coma\n",
        "    tweet = re.sub(r',','',tweet)\n",
        "\n",
        "    #remove number\n",
        "    tweet = re.sub('[0-9]+', '', tweet)\n",
        "\n",
        "    # tokenize tweets\n",
        "    tokenizer = TweetTokenizer(preserve_case=False, strip_handles=True, reduce_len=True)\n",
        "    tweet_tokens = tokenizer.tokenize(tweet)\n",
        "\n",
        "    tweets_clean = []\n",
        "    for word in tweet_tokens:\n",
        "        if (word not in stopwords_english and # remove stopwords\n",
        "              word not in emoticons and # remove emoticons\n",
        "                word not in string.punctuation): # remove punctuation\n",
        "            #tweets_clean.append(porter.stem(word))\n",
        "            \"\"\"port_word = porter.stem(word) # stemming word\n",
        "            tweets_clean.append(port_word)\"\"\"\n",
        "            net_word = wordnet.lemmatize(word) #lemmatizing word\n",
        "            tweets_clean.append(net_word)\n",
        "\n",
        "    return tweets_clean"
      ]
    },
    {
      "cell_type": "code",
      "execution_count": null,
      "id": "f07f840c",
      "metadata": {
        "id": "f07f840c",
        "outputId": "436b2f7f-7f9c-47ec-927d-093c5921367b"
      },
      "outputs": [
        {
          "data": {
            "text/html": [
              "<div>\n",
              "<style scoped>\n",
              "    .dataframe tbody tr th:only-of-type {\n",
              "        vertical-align: middle;\n",
              "    }\n",
              "\n",
              "    .dataframe tbody tr th {\n",
              "        vertical-align: top;\n",
              "    }\n",
              "\n",
              "    .dataframe thead th {\n",
              "        text-align: right;\n",
              "    }\n",
              "</style>\n",
              "<table border=\"1\" class=\"dataframe\">\n",
              "  <thead>\n",
              "    <tr style=\"text-align: right;\">\n",
              "      <th></th>\n",
              "      <th>Tweet</th>\n",
              "      <th>tweet_clean</th>\n",
              "    </tr>\n",
              "  </thead>\n",
              "  <tbody>\n",
              "    <tr>\n",
              "      <th>0</th>\n",
              "      <td>Tweet</td>\n",
              "      <td>[tweet]</td>\n",
              "    </tr>\n",
              "    <tr>\n",
              "      <th>1</th>\n",
              "      <td>The 10 Biggest Companies by Market Cap in 2001...</td>\n",
              "      <td>[biggest, company, market, cap, general, elect...</td>\n",
              "    </tr>\n",
              "    <tr>\n",
              "      <th>2</th>\n",
              "      <td>RT : In less than two months, we have been abl...</td>\n",
              "      <td>[le, two, month, able, give, year, old, least,...</td>\n",
              "    </tr>\n",
              "    <tr>\n",
              "      <th>3</th>\n",
              "      <td>RT : I just feel like I can't wait any longer....</td>\n",
              "      <td>[feel, like, can't, wait, longer, well, lost, ...</td>\n",
              "    </tr>\n",
              "    <tr>\n",
              "      <th>4</th>\n",
              "      <td>RT : I just feel like I can't wait any longer....</td>\n",
              "      <td>[feel, like, can't, wait, longer, well, lost, ...</td>\n",
              "    </tr>\n",
              "  </tbody>\n",
              "</table>\n",
              "</div>"
            ],
            "text/plain": [
              "                                               Tweet   \n",
              "0                                              Tweet  \\\n",
              "1  The 10 Biggest Companies by Market Cap in 2001...   \n",
              "2  RT : In less than two months, we have been abl...   \n",
              "3  RT : I just feel like I can't wait any longer....   \n",
              "4  RT : I just feel like I can't wait any longer....   \n",
              "\n",
              "                                         tweet_clean  \n",
              "0                                            [tweet]  \n",
              "1  [biggest, company, market, cap, general, elect...  \n",
              "2  [le, two, month, able, give, year, old, least,...  \n",
              "3  [feel, like, can't, wait, longer, well, lost, ...  \n",
              "4  [feel, like, can't, wait, longer, well, lost, ...  "
            ]
          },
          "execution_count": 184,
          "metadata": {},
          "output_type": "execute_result"
        }
      ],
      "source": [
        "df['tweet_clean'] = df['Tweet'].apply(lambda x: clean_tweets(x))\n",
        "df.head()"
      ]
    },
    {
      "cell_type": "code",
      "execution_count": null,
      "id": "38c2b7ee",
      "metadata": {
        "id": "38c2b7ee"
      },
      "outputs": [],
      "source": []
    },
    {
      "cell_type": "code",
      "execution_count": null,
      "id": "4c58cbef",
      "metadata": {
        "id": "4c58cbef"
      },
      "outputs": [],
      "source": [
        "#remove punct\n",
        "def remove_punct(text):\n",
        "    text  = \" \".join([char for char in text if char not in string.punctuation])\n",
        "    return text"
      ]
    },
    {
      "cell_type": "code",
      "execution_count": null,
      "id": "9828ccb5",
      "metadata": {
        "id": "9828ccb5",
        "outputId": "7231765c-5b7b-4893-ba6e-478e1a07a447"
      },
      "outputs": [
        {
          "data": {
            "text/html": [
              "<div>\n",
              "<style scoped>\n",
              "    .dataframe tbody tr th:only-of-type {\n",
              "        vertical-align: middle;\n",
              "    }\n",
              "\n",
              "    .dataframe tbody tr th {\n",
              "        vertical-align: top;\n",
              "    }\n",
              "\n",
              "    .dataframe thead th {\n",
              "        text-align: right;\n",
              "    }\n",
              "</style>\n",
              "<table border=\"1\" class=\"dataframe\">\n",
              "  <thead>\n",
              "    <tr style=\"text-align: right;\">\n",
              "      <th></th>\n",
              "      <th>Tweet</th>\n",
              "      <th>tweet_clean</th>\n",
              "      <th>pre_processed_tweet</th>\n",
              "    </tr>\n",
              "  </thead>\n",
              "  <tbody>\n",
              "    <tr>\n",
              "      <th>0</th>\n",
              "      <td>Tweet</td>\n",
              "      <td>[tweet]</td>\n",
              "      <td>tweet</td>\n",
              "    </tr>\n",
              "    <tr>\n",
              "      <th>1</th>\n",
              "      <td>The 10 Biggest Companies by Market Cap in 2001...</td>\n",
              "      <td>[biggest, company, market, cap, general, elect...</td>\n",
              "      <td>biggest company market cap general electric ci...</td>\n",
              "    </tr>\n",
              "    <tr>\n",
              "      <th>2</th>\n",
              "      <td>RT : In less than two months, we have been abl...</td>\n",
              "      <td>[le, two, month, able, give, year, old, least,...</td>\n",
              "      <td>le two month able give year old least first do...</td>\n",
              "    </tr>\n",
              "    <tr>\n",
              "      <th>3</th>\n",
              "      <td>RT : I just feel like I can't wait any longer....</td>\n",
              "      <td>[feel, like, can't, wait, longer, well, lost, ...</td>\n",
              "      <td>feel like can't wait longer well lost opportun...</td>\n",
              "    </tr>\n",
              "    <tr>\n",
              "      <th>4</th>\n",
              "      <td>RT : I just feel like I can't wait any longer....</td>\n",
              "      <td>[feel, like, can't, wait, longer, well, lost, ...</td>\n",
              "      <td>feel like can't wait longer well lost opportun...</td>\n",
              "    </tr>\n",
              "  </tbody>\n",
              "</table>\n",
              "</div>"
            ],
            "text/plain": [
              "                                               Tweet   \n",
              "0                                              Tweet  \\\n",
              "1  The 10 Biggest Companies by Market Cap in 2001...   \n",
              "2  RT : In less than two months, we have been abl...   \n",
              "3  RT : I just feel like I can't wait any longer....   \n",
              "4  RT : I just feel like I can't wait any longer....   \n",
              "\n",
              "                                         tweet_clean   \n",
              "0                                            [tweet]  \\\n",
              "1  [biggest, company, market, cap, general, elect...   \n",
              "2  [le, two, month, able, give, year, old, least,...   \n",
              "3  [feel, like, can't, wait, longer, well, lost, ...   \n",
              "4  [feel, like, can't, wait, longer, well, lost, ...   \n",
              "\n",
              "                                 pre_processed_tweet  \n",
              "0                                              tweet  \n",
              "1  biggest company market cap general electric ci...  \n",
              "2  le two month able give year old least first do...  \n",
              "3  feel like can't wait longer well lost opportun...  \n",
              "4  feel like can't wait longer well lost opportun...  "
            ]
          },
          "execution_count": 186,
          "metadata": {},
          "output_type": "execute_result"
        }
      ],
      "source": [
        "df['pre_processed_tweet'] = df['tweet_clean'].apply(lambda x: remove_punct(x))\n",
        "df.head()"
      ]
    },
    {
      "cell_type": "code",
      "execution_count": null,
      "id": "8eec5bb4",
      "metadata": {
        "id": "8eec5bb4",
        "outputId": "ec5a85f6-3903-4582-f093-7e571447f685"
      },
      "outputs": [
        {
          "data": {
            "text/html": [
              "<div>\n",
              "<style scoped>\n",
              "    .dataframe tbody tr th:only-of-type {\n",
              "        vertical-align: middle;\n",
              "    }\n",
              "\n",
              "    .dataframe tbody tr th {\n",
              "        vertical-align: top;\n",
              "    }\n",
              "\n",
              "    .dataframe thead th {\n",
              "        text-align: right;\n",
              "    }\n",
              "</style>\n",
              "<table border=\"1\" class=\"dataframe\">\n",
              "  <thead>\n",
              "    <tr style=\"text-align: right;\">\n",
              "      <th></th>\n",
              "      <th>pre_processed_tweet</th>\n",
              "    </tr>\n",
              "  </thead>\n",
              "  <tbody>\n",
              "    <tr>\n",
              "      <th>231</th>\n",
              "      <td></td>\n",
              "    </tr>\n",
              "    <tr>\n",
              "      <th>5207</th>\n",
              "      <td>.. r republika południowej afryki prosi koncer...</td>\n",
              "    </tr>\n",
              "    <tr>\n",
              "      <th>4669</th>\n",
              "      <td>.. wurde bekannt das südafrika lieferungen von...</td>\n",
              "    </tr>\n",
              "    <tr>\n",
              "      <th>2609</th>\n",
              "      <td>absolute waanzin en geen enkele politicus jour...</td>\n",
              "    </tr>\n",
              "    <tr>\n",
              "      <th>2095</th>\n",
              "      <td>according israeli immunologist zvika granot pa...</td>\n",
              "    </tr>\n",
              "  </tbody>\n",
              "</table>\n",
              "</div>"
            ],
            "text/plain": [
              "                                    pre_processed_tweet\n",
              "231                                                    \n",
              "5207  .. r republika południowej afryki prosi koncer...\n",
              "4669  .. wurde bekannt das südafrika lieferungen von...\n",
              "2609  absolute waanzin en geen enkele politicus jour...\n",
              "2095  according israeli immunologist zvika granot pa..."
            ]
          },
          "execution_count": 187,
          "metadata": {},
          "output_type": "execute_result"
        }
      ],
      "source": [
        "df.sort_values(\"pre_processed_tweet\", inplace = True)\n",
        "df.drop(df.columns[[0,1]], axis = 1, inplace = True)\n",
        "df.drop_duplicates(subset =\"pre_processed_tweet\", keep = 'first', inplace = True)\n",
        "df.head()"
      ]
    },
    {
      "cell_type": "code",
      "execution_count": null,
      "id": "bc7bebba",
      "metadata": {
        "id": "bc7bebba"
      },
      "outputs": [],
      "source": [
        "# df.to_csv('Samsung.csv', index=False)"
      ]
    },
    {
      "cell_type": "code",
      "execution_count": null,
      "id": "c6305439",
      "metadata": {
        "id": "c6305439"
      },
      "outputs": [],
      "source": [
        "import matplotlib.pyplot as plt\n",
        "from textblob import TextBlob"
      ]
    },
    {
      "cell_type": "code",
      "execution_count": null,
      "id": "cc8d78b0",
      "metadata": {
        "id": "cc8d78b0"
      },
      "outputs": [],
      "source": [
        "def getSubjectivity(text):\n",
        "  return TextBlob(text).sentiment.subjectivity\n",
        "\n",
        "def getPolarity(text):\n",
        "  return TextBlob(text).sentiment.polarity\n",
        "\n",
        "df['Subjectivity'] = df['pre_processed_tweet'].apply(getSubjectivity)\n",
        "df['Polarity'] = df['pre_processed_tweet'].apply(getPolarity)"
      ]
    },
    {
      "cell_type": "code",
      "execution_count": null,
      "id": "815cadc2",
      "metadata": {
        "id": "815cadc2",
        "outputId": "947b7623-02e0-47bf-ed37-4d26d995b146"
      },
      "outputs": [
        {
          "data": {
            "text/html": [
              "<div>\n",
              "<style scoped>\n",
              "    .dataframe tbody tr th:only-of-type {\n",
              "        vertical-align: middle;\n",
              "    }\n",
              "\n",
              "    .dataframe tbody tr th {\n",
              "        vertical-align: top;\n",
              "    }\n",
              "\n",
              "    .dataframe thead th {\n",
              "        text-align: right;\n",
              "    }\n",
              "</style>\n",
              "<table border=\"1\" class=\"dataframe\">\n",
              "  <thead>\n",
              "    <tr style=\"text-align: right;\">\n",
              "      <th></th>\n",
              "      <th>pre_processed_tweet</th>\n",
              "      <th>Subjectivity</th>\n",
              "      <th>Polarity</th>\n",
              "    </tr>\n",
              "  </thead>\n",
              "  <tbody>\n",
              "    <tr>\n",
              "      <th>231</th>\n",
              "      <td></td>\n",
              "      <td>0.000</td>\n",
              "      <td>0.000</td>\n",
              "    </tr>\n",
              "    <tr>\n",
              "      <th>5207</th>\n",
              "      <td>.. r republika południowej afryki prosi koncer...</td>\n",
              "      <td>0.000</td>\n",
              "      <td>0.000</td>\n",
              "    </tr>\n",
              "    <tr>\n",
              "      <th>4669</th>\n",
              "      <td>.. wurde bekannt das südafrika lieferungen von...</td>\n",
              "      <td>0.000</td>\n",
              "      <td>0.000</td>\n",
              "    </tr>\n",
              "    <tr>\n",
              "      <th>2609</th>\n",
              "      <td>absolute waanzin en geen enkele politicus jour...</td>\n",
              "      <td>0.900</td>\n",
              "      <td>0.200</td>\n",
              "    </tr>\n",
              "    <tr>\n",
              "      <th>2095</th>\n",
              "      <td>according israeli immunologist zvika granot pa...</td>\n",
              "      <td>0.575</td>\n",
              "      <td>0.075</td>\n",
              "    </tr>\n",
              "  </tbody>\n",
              "</table>\n",
              "</div>"
            ],
            "text/plain": [
              "                                    pre_processed_tweet  Subjectivity   \n",
              "231                                                             0.000  \\\n",
              "5207  .. r republika południowej afryki prosi koncer...         0.000   \n",
              "4669  .. wurde bekannt das südafrika lieferungen von...         0.000   \n",
              "2609  absolute waanzin en geen enkele politicus jour...         0.900   \n",
              "2095  according israeli immunologist zvika granot pa...         0.575   \n",
              "\n",
              "      Polarity  \n",
              "231      0.000  \n",
              "5207     0.000  \n",
              "4669     0.000  \n",
              "2609     0.200  \n",
              "2095     0.075  "
            ]
          },
          "execution_count": 191,
          "metadata": {},
          "output_type": "execute_result"
        }
      ],
      "source": [
        "df.head()"
      ]
    },
    {
      "cell_type": "code",
      "execution_count": null,
      "id": "cefe4f9a",
      "metadata": {
        "id": "cefe4f9a"
      },
      "outputs": [],
      "source": [
        "def getAnalysis(score):\n",
        "  if score<0:\n",
        "    return 'Negative'\n",
        "  elif score ==0:\n",
        "    return 'Neutral'\n",
        "  else:\n",
        "    return 'Positive'\n",
        "\n",
        "df['Analysis']=df['Polarity'].apply(getAnalysis)"
      ]
    },
    {
      "cell_type": "code",
      "execution_count": null,
      "id": "6365cc02",
      "metadata": {
        "scrolled": true,
        "id": "6365cc02",
        "outputId": "14d36339-fd70-4850-b3d3-585e04ab6596"
      },
      "outputs": [
        {
          "data": {
            "text/html": [
              "<div>\n",
              "<style scoped>\n",
              "    .dataframe tbody tr th:only-of-type {\n",
              "        vertical-align: middle;\n",
              "    }\n",
              "\n",
              "    .dataframe tbody tr th {\n",
              "        vertical-align: top;\n",
              "    }\n",
              "\n",
              "    .dataframe thead th {\n",
              "        text-align: right;\n",
              "    }\n",
              "</style>\n",
              "<table border=\"1\" class=\"dataframe\">\n",
              "  <thead>\n",
              "    <tr style=\"text-align: right;\">\n",
              "      <th></th>\n",
              "      <th>pre_processed_tweet</th>\n",
              "      <th>Subjectivity</th>\n",
              "      <th>Polarity</th>\n",
              "      <th>Analysis</th>\n",
              "    </tr>\n",
              "  </thead>\n",
              "  <tbody>\n",
              "    <tr>\n",
              "      <th>231</th>\n",
              "      <td></td>\n",
              "      <td>0.000</td>\n",
              "      <td>0.000</td>\n",
              "      <td>Neutral</td>\n",
              "    </tr>\n",
              "    <tr>\n",
              "      <th>5207</th>\n",
              "      <td>.. r republika południowej afryki prosi koncer...</td>\n",
              "      <td>0.000</td>\n",
              "      <td>0.000</td>\n",
              "      <td>Neutral</td>\n",
              "    </tr>\n",
              "    <tr>\n",
              "      <th>4669</th>\n",
              "      <td>.. wurde bekannt das südafrika lieferungen von...</td>\n",
              "      <td>0.000</td>\n",
              "      <td>0.000</td>\n",
              "      <td>Neutral</td>\n",
              "    </tr>\n",
              "    <tr>\n",
              "      <th>2609</th>\n",
              "      <td>absolute waanzin en geen enkele politicus jour...</td>\n",
              "      <td>0.900</td>\n",
              "      <td>0.200</td>\n",
              "      <td>Positive</td>\n",
              "    </tr>\n",
              "    <tr>\n",
              "      <th>2095</th>\n",
              "      <td>according israeli immunologist zvika granot pa...</td>\n",
              "      <td>0.575</td>\n",
              "      <td>0.075</td>\n",
              "      <td>Positive</td>\n",
              "    </tr>\n",
              "  </tbody>\n",
              "</table>\n",
              "</div>"
            ],
            "text/plain": [
              "                                    pre_processed_tweet  Subjectivity   \n",
              "231                                                             0.000  \\\n",
              "5207  .. r republika południowej afryki prosi koncer...         0.000   \n",
              "4669  .. wurde bekannt das südafrika lieferungen von...         0.000   \n",
              "2609  absolute waanzin en geen enkele politicus jour...         0.900   \n",
              "2095  according israeli immunologist zvika granot pa...         0.575   \n",
              "\n",
              "      Polarity  Analysis  \n",
              "231      0.000   Neutral  \n",
              "5207     0.000   Neutral  \n",
              "4669     0.000   Neutral  \n",
              "2609     0.200  Positive  \n",
              "2095     0.075  Positive  "
            ]
          },
          "execution_count": 193,
          "metadata": {},
          "output_type": "execute_result"
        }
      ],
      "source": [
        "df.head()"
      ]
    },
    {
      "cell_type": "code",
      "execution_count": null,
      "id": "d35b2052",
      "metadata": {
        "scrolled": true,
        "id": "d35b2052",
        "outputId": "4537b56a-58c4-4be0-c07e-88f33f8682b9"
      },
      "outputs": [
        {
          "data": {
            "image/png": "[encoded data removed]",
            "text/plain": [
              "<Figure size 640x480 with 1 Axes>"
            ]
          },
          "metadata": {},
          "output_type": "display_data"
        }
      ],
      "source": [
        "#Plot the Polarity and Subjectivity\n",
        "#plt.figure(figsize=(10,10))\n",
        "plt.scatter(df['Polarity'], df['Subjectivity'])#, color='g', marker='*'\n",
        "plt.title('Sentiment Analysis')\n",
        "plt.xlabel('Polarity')\n",
        "plt.ylabel('Subjectivity')\n",
        "plt.grid()\n",
        "plt.show()"
      ]
    },
    {
      "cell_type": "code",
      "execution_count": null,
      "id": "9f62a6e3",
      "metadata": {
        "id": "9f62a6e3",
        "outputId": "401ceffb-22e5-4e6b-8e3d-79a1083521a7"
      },
      "outputs": [
        {
          "data": {
            "text/plain": [
              "36.9"
            ]
          },
          "execution_count": 195,
          "metadata": {},
          "output_type": "execute_result"
        }
      ],
      "source": [
        "#get the percentage of positive tweets\n",
        "ptweets = df[df.Analysis == 'Positive']\n",
        "ptweets = ptweets['pre_processed_tweet']\n",
        "round((ptweets.shape[0]/df.shape[0])*100,1)"
      ]
    },
    {
      "cell_type": "code",
      "execution_count": null,
      "id": "0c3595e7",
      "metadata": {
        "id": "0c3595e7",
        "outputId": "3cc969f7-3c3f-451e-bd36-b08dfc9ab549"
      },
      "outputs": [
        {
          "data": {
            "text/plain": [
              "15.6"
            ]
          },
          "execution_count": 196,
          "metadata": {},
          "output_type": "execute_result"
        }
      ],
      "source": [
        "#get the percentage of negative tweets\n",
        "ptweets = df[df.Analysis == 'Negative']\n",
        "ptweets = ptweets['pre_processed_tweet']\n",
        "round((ptweets.shape[0]/df.shape[0])*100,1)"
      ]
    },
    {
      "cell_type": "code",
      "execution_count": null,
      "id": "8d7ac236",
      "metadata": {
        "scrolled": true,
        "id": "8d7ac236",
        "outputId": "4614d70a-5662-4003-d5bf-fc7abcfa03ea"
      },
      "outputs": [
        {
          "data": {
            "text/plain": [
              "<function matplotlib.pyplot.show(close=None, block=None)>"
            ]
          },
          "execution_count": 197,
          "metadata": {},
          "output_type": "execute_result"
        },
        {
          "data": {
            "image/png": "[encoded data removed]",
            "text/plain": [
              "<Figure size 640x480 with 1 Axes>"
            ]
          },
          "metadata": {},
          "output_type": "display_data"
        }
      ],
      "source": [
        "#show the value counts\n",
        "df['Analysis'].value_counts()\n",
        "\n",
        "#plot and visualise counts\n",
        "plt.title('Sentiment Analysis')\n",
        "plt.xlabel('Sentiment')\n",
        "plt.ylabel('Counts')\n",
        "df['Analysis'].value_counts().plot(kind='bar')\n",
        "plt.show"
      ]
    }
  ],
  "metadata": {
    "kernelspec": {
      "display_name": "Python 3",
      "language": "python",
      "name": "python3"
    },
    "language_info": {
      "codemirror_mode": {
        "name": "ipython",
        "version": 3
      },
      "file_extension": ".py",
      "mimetype": "text/x-python",
      "name": "python",
      "nbconvert_exporter": "python",
      "pygments_lexer": "ipython3",
      "version": "3.11.1"
    },
    "colab": {
      "provenance": []
    }
  },
  "nbformat": 4,
  "nbformat_minor": 5
}